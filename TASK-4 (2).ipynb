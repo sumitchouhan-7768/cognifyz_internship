{
 "cells": [
  {
   "cell_type": "code",
   "execution_count": 15,
   "id": "8d7f27cd",
   "metadata": {},
   "outputs": [],
   "source": [
    "import pandas as pd"
   ]
  },
  {
   "cell_type": "code",
   "execution_count": 16,
   "id": "07b2e98e",
   "metadata": {},
   "outputs": [],
   "source": [
    "import matplotlib.pyplot as plt"
   ]
  },
  {
   "cell_type": "code",
   "execution_count": 17,
   "id": "e4937ffc",
   "metadata": {},
   "outputs": [],
   "source": [
    "import scipy as stats"
   ]
  },
  {
   "cell_type": "code",
   "execution_count": 20,
   "id": "1f8db4a1",
   "metadata": {},
   "outputs": [],
   "source": [
    "import os"
   ]
  },
  {
   "cell_type": "code",
   "execution_count": 21,
   "id": "73ccdd12",
   "metadata": {},
   "outputs": [
    {
     "name": "stdout",
     "output_type": "stream",
     "text": [
      "C:\\Users\\HP\\Desktop\\cognifyz_internship\\LEVEL-1\n"
     ]
    }
   ],
   "source": [
    "print(os.getcwd()) "
   ]
  },
  {
   "cell_type": "code",
   "execution_count": 22,
   "id": "c06a7dae",
   "metadata": {},
   "outputs": [],
   "source": [
    "dataset = pd.read_csv('Dataset  (1).csv')"
   ]
  },
  {
   "cell_type": "code",
   "execution_count": 23,
   "id": "f38373f8",
   "metadata": {},
   "outputs": [],
   "source": [
    "total_restaurants = len(dataset)\n",
    "restaurants_with_online_delivery = dataset['Has Online delivery'].value_counts().get('Yes',0)\n",
    "percentage_with_online_delivery = (restaurants_with_online_delivery / total_restaurants) * 100\n"
   ]
  },
  {
   "cell_type": "code",
   "execution_count": 24,
   "id": "486893e2",
   "metadata": {},
   "outputs": [
    {
     "name": "stdout",
     "output_type": "stream",
     "text": [
      "percentage of restaurants that offers online delivery: 25.662234321013504\n",
      "total restaurants: 9551\n"
     ]
    }
   ],
   "source": [
    "\n",
    "print(\"percentage of restaurants that offers online delivery:\",percentage_with_online_delivery)\n",
    "print(\"total restaurants:\",total_restaurants)\n"
   ]
  },
  {
   "cell_type": "code",
   "execution_count": 26,
   "id": "19bd6d91",
   "metadata": {},
   "outputs": [],
   "source": [
    "average_rating_with_online_delivery = dataset[dataset['Has Online delivery'] == 'Yes']['Aggregate rating'].mean()\n",
    "average_rating_without_online_delivery = dataset[dataset['Has Online delivery'] == 'No']['Aggregate rating'].mean()"
   ]
  },
  {
   "cell_type": "code",
   "execution_count": 27,
   "id": "5c8d6829",
   "metadata": {},
   "outputs": [
    {
     "name": "stdout",
     "output_type": "stream",
     "text": [
      "average rating of rastaurant having online delivery: 3.2488372093023306\n",
      "average rating of rastaurant not having online delivery: 2.465295774647888\n"
     ]
    }
   ],
   "source": [
    "print(\"average rating of rastaurant having online delivery:\",average_rating_with_online_delivery)\n",
    "print(\"average rating of rastaurant not having online delivery:\",average_rating_without_online_delivery)"
   ]
  },
  {
   "cell_type": "code",
   "execution_count": 30,
   "id": "e16e0a83",
   "metadata": {},
   "outputs": [
    {
     "data": {
      "image/png": "[encoded data removed]",
      "text/plain": [
       "<Figure size 432x288 with 1 Axes>"
      ]
     },
     "metadata": {
      "needs_background": "light"
     },
     "output_type": "display_data"
    }
   ],
   "source": [
    "labels = ['with online delivery','without online delivery']\n",
    "average_ratings = [average_rating_with_online_delivery,average_rating_without_online_delivery]\n",
    "plt.bar(labels, average_ratings)\n",
    "plt.xlabel('Online Delivery')\n",
    "plt.ylabel('Average Rating')\n",
    "plt.title('Comparison of Average Ratings')\n",
    "plt.show()"
   ]
  },
  {
   "cell_type": "code",
   "execution_count": null,
   "id": "04f04326",
   "metadata": {},
   "outputs": [],
   "source": []
  }
 ],
 "metadata": {
  "kernelspec": {
   "display_name": "Python 3 (ipykernel)",
   "language": "python",
   "name": "python3"
  },
  "language_info": {
   "codemirror_mode": {
    "name": "ipython",
    "version": 3
   },
   "file_extension": ".py",
   "mimetype": "text/x-python",
   "name": "python",
   "nbconvert_exporter": "python",
   "pygments_lexer": "ipython3",
   "version": "3.9.12"
  }
 },
 "nbformat": 4,
 "nbformat_minor": 5
}
