{
 "cells": [
  {
   "cell_type": "code",
   "execution_count": 4,
   "id": "f0b92587",
   "metadata": {},
   "outputs": [],
   "source": [
    "import pandas as pd"
   ]
  },
  {
   "cell_type": "code",
   "execution_count": 5,
   "id": "b8de7410",
   "metadata": {},
   "outputs": [],
   "source": [
    "import matplotlib.pyplot as plt"
   ]
  },
  {
   "cell_type": "code",
   "execution_count": 7,
   "id": "67342f8c",
   "metadata": {},
   "outputs": [],
   "source": [
    "dataset = pd.read_csv('Dataset  (1).csv')"
   ]
  },
  {
   "cell_type": "code",
   "execution_count": 10,
   "id": "0d33d5c3",
   "metadata": {},
   "outputs": [],
   "source": [
    "aggregate_ratings = dataset['Aggregate rating']\n",
    "rating_counts = aggregate_ratings.value_counts().sort_index()"
   ]
  },
  {
   "cell_type": "code",
   "execution_count": 14,
   "id": "cd16e3d2",
   "metadata": {},
   "outputs": [
    {
     "name": "stdout",
     "output_type": "stream",
     "text": [
      "most comon rating range: 0.0\n"
     ]
    }
   ],
   "source": [
    "most_common_rating_range = rating_counts.idxmax()\n",
    "print(\"most comon rating range:\",most_common_rating_range)"
   ]
  },
  {
   "cell_type": "code",
   "execution_count": 16,
   "id": "ed780acd",
   "metadata": {},
   "outputs": [
    {
     "name": "stdout",
     "output_type": "stream",
     "text": [
      "Average number of votes received by restaurants: 156.909747670401\n"
     ]
    }
   ],
   "source": [
    "average_votes = dataset['Votes'].mean()\n",
    "print(\"Average number of votes received by restaurants:\",average_votes)"
   ]
  },
  {
   "cell_type": "code",
   "execution_count": 17,
   "id": "6401221e",
   "metadata": {},
   "outputs": [
    {
     "data": {
      "image/png": "[encoded data removed]",
      "text/plain": [
       "<Figure size 432x288 with 1 Axes>"
      ]
     },
     "metadata": {
      "needs_background": "light"
     },
     "output_type": "display_data"
    }
   ],
   "source": [
    "plt.hist(aggregate_ratings, bins=20, edgecolor='red')\n",
    "plt.xlabel('Aggregate Rating')\n",
    "plt.ylabel('Frequency')\n",
    "plt.title('Distribution of Aggregate Rating')\n",
    "plt.show()"
   ]
  },
  {
   "cell_type": "code",
   "execution_count": null,
   "id": "8b5469ec",
   "metadata": {},
   "outputs": [],
   "source": []
  }
 ],
 "metadata": {
  "kernelspec": {
   "display_name": "Python 3 (ipykernel)",
   "language": "python",
   "name": "python3"
  },
  "language_info": {
   "codemirror_mode": {
    "name": "ipython",
    "version": 3
   },
   "file_extension": ".py",
   "mimetype": "text/x-python",
   "name": "python",
   "nbconvert_exporter": "python",
   "pygments_lexer": "ipython3",
   "version": "3.9.12"
  }
 },
 "nbformat": 4,
 "nbformat_minor": 5
}
